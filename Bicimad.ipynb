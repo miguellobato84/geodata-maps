{
 "cells": [
  {
   "cell_type": "code",
   "execution_count": null,
   "id": "aa16a7c6",
   "metadata": {
    "scrolled": true
   },
   "outputs": [],
   "source": [
    "!pip install folium geopy rtree matplotlib mapclassify \n",
    "!pip install geopandas\n"
   ]
  },
  {
   "cell_type": "code",
   "execution_count": null,
   "id": "6335fea1",
   "metadata": {},
   "outputs": [],
   "source": [
    "import folium\n",
    "import geopandas as gpd\n",
    "import os\n",
    "from folium import Choropleth, Circle, Marker\n",
    "from folium.plugins import HeatMap, MarkerCluster, Fullscreen, MousePosition"
   ]
  },
  {
   "cell_type": "code",
   "execution_count": null,
   "id": "781d03f2",
   "metadata": {},
   "outputs": [],
   "source": [
    "def load_shapefile(name, cols, index=None, rename=None):\n",
    "    path = os.path.abspath(f\"./data/{name}.zip\")\n",
    "    df = gpd.read_file(f'zip://{path}')\n",
    "\n",
    "    df = df[cols]\n",
    "    if rename:\n",
    "        df = df.rename(columns=rename)\n",
    "    if index:\n",
    "        df = df.set_index(index)\n",
    "    return df.to_crs(epsg=4326)\n",
    "    \n",
    "\n",
    "def add_barrios(m):\n",
    "    for name, r in barrios.iterrows():\n",
    "        # Without simplifying the representation of each borough,\n",
    "        # the map might not be displayed\n",
    "        sim_geo = gpd.GeoSeries(r['geometry']).simplify(tolerance=0.001)\n",
    "        geo_j = sim_geo.to_json()\n",
    "        geo_j = folium.GeoJson(data=geo_j,\n",
    "                               style_function=lambda x: {'fillColor': 'orange'})\n",
    "        folium.Popup(f\"<b>Barrio:</b> <span style='white-space: nowrap;'>{name}</span>\").add_to(geo_j)\n",
    "        geo_j.add_to(m)\n",
    "    m\n",
    "\n",
    "\n",
    "\n",
    "def get_map(withbarrios=True):\n",
    "    #tiles maps: https://github.com/python-visualization/folium/tree/main/folium/templates/tiles\n",
    "    # Create a base map\n",
    "    m = folium.Map(location=[40.422, -3.696], tiles='stamentoner', zoom_start=12)\n",
    "    m.add_child(Fullscreen())\n",
    "    m.add_child(MousePosition())\n",
    "    \n",
    "    if withbarrios:\n",
    "        add_barrios(m)\n",
    "    \n",
    "    return m"
   ]
  },
  {
   "cell_type": "code",
   "execution_count": null,
   "id": "37a96a4f",
   "metadata": {},
   "outputs": [],
   "source": [
    "# Barrios Dataset\n",
    "barrios = load_shapefile(\"barrios\", [\"NOMBRE\", \"geometry\"], index=\"NOMBRE\")\n",
    "\n",
    "barrios"
   ]
  },
  {
   "cell_type": "code",
   "execution_count": null,
   "id": "725b0a63",
   "metadata": {
    "scrolled": true
   },
   "outputs": [],
   "source": [
    "distritos = load_shapefile(\"distritos\", [\"DISTRI_MAY\", \"geometry\"], rename={\"DISTRI_MAY\": \"NOMBRE\"}, index=\"NOMBRE\")\n",
    "\n",
    "distritos"
   ]
  },
  {
   "cell_type": "code",
   "execution_count": null,
   "id": "20b260d5",
   "metadata": {},
   "outputs": [],
   "source": [
    "# Bicimad dataset\n",
    "import json\n",
    "\n",
    "with open('./data/bicimad-estaciones-202106.json') as f:\n",
    "    raw = json.load(f)\n",
    "    \n",
    "stations = [{\n",
    "          \"type\": \"Feature\",\n",
    "          \"geometry\": { \"type\": \"Point\", \"coordinates\": [float(station[\"longitude\"]), float(station[\"latitude\"])] },\n",
    "          \"properties\": station\n",
    "       } for station in raw[\"stations\"]]\n",
    "\n",
    "bicimad = gpd.GeoDataFrame.from_features(stations)\n",
    "bicimad = bicimad.set_crs(\"EPSG:4326\")\n",
    "\n",
    "bicimad"
   ]
  },
  {
   "cell_type": "code",
   "execution_count": null,
   "id": "843fd6cc",
   "metadata": {},
   "outputs": [],
   "source": [
    "# Show bicimad stations as makers\n",
    "m = get_map(True)\n",
    "\n",
    "for name, row in bicimad.iterrows():\n",
    "    popup = folium.Popup(f\"<b>Estación:</b> <span style='white-space: nowrap;'>{name}</span><br/><b>Docks:</b> {row['total_bases']}\")\n",
    "    Marker([row['latitude'], row['longitude']], popup=popup).add_to(m)\n",
    "\n",
    "m"
   ]
  },
  {
   "cell_type": "code",
   "execution_count": null,
   "id": "a0aa658d",
   "metadata": {},
   "outputs": [],
   "source": [
    "# Show bicimad stations as clusters\n",
    "m = get_map()\n",
    "\n",
    "mc = MarkerCluster()\n",
    "for idx, row in bicimad.iterrows():\n",
    "    Marker([row['latitude'], row['longitude']]).add_to(mc)\n",
    "m.add_child(mc)\n",
    "\n",
    "m"
   ]
  },
  {
   "cell_type": "code",
   "execution_count": null,
   "id": "2fc8cf12",
   "metadata": {},
   "outputs": [],
   "source": [
    "# Show bicimad stations as heatmap\n",
    "m = get_map()\n",
    "HeatMap(data=bicimad[['latitude', 'longitude']], radius=20).add_to(m)\n",
    "m"
   ]
  },
  {
   "cell_type": "code",
   "execution_count": null,
   "id": "d2a9f7a3",
   "metadata": {},
   "outputs": [],
   "source": [
    "# calculate sum of docks per district\n",
    "bicimad_distritos = gpd.sjoin(distritos, bicimad).reset_index()\n",
    "bicimad_distritos = bicimad_distritos[[\"NOMBRE\", \"total_bases\"]].groupby(\"NOMBRE\").sum().squeeze()\n",
    "\n",
    "bicimad_distritos"
   ]
  },
  {
   "cell_type": "code",
   "execution_count": null,
   "id": "5c6794ef",
   "metadata": {},
   "outputs": [],
   "source": [
    "# Show bicimad stations as Cloropeth\n",
    "m = get_map(withbarrios=False)\n",
    "\n",
    "\n",
    "Choropleth(geo_data=distritos.__geo_interface__,\n",
    "           data=bicimad_distritos, \n",
    "           key_on=\"feature.id\", \n",
    "           fill_color=\"OrRd\", \n",
    "           legend_name='Bicimad Station docks per district',\n",
    "           nan_fill_color = \"White\"\n",
    "          ).add_to(m)\n",
    "\n",
    "m"
   ]
  },
  {
   "cell_type": "code",
   "execution_count": null,
   "id": "6b7f23f6",
   "metadata": {
    "scrolled": true
   },
   "outputs": [],
   "source": [
    "# calculate sum of docks per neighbourhood\n",
    "bicimad_barrios = gpd.sjoin(barrios, bicimad).reset_index()\n",
    "bicimad_barrios = bicimad_barrios[[\"NOMBRE\", \"total_bases\"]].groupby(\"NOMBRE\").sum().squeeze()\n",
    "\n",
    "bicimad_barrios"
   ]
  },
  {
   "cell_type": "code",
   "execution_count": null,
   "id": "adc6af70",
   "metadata": {},
   "outputs": [],
   "source": [
    "# Create a base map\n",
    "m = get_map(withbarrios=False)\n",
    "\n",
    "\n",
    "# Add a choropleth map to the base map\n",
    "Choropleth(geo_data=barrios.__geo_interface__,\n",
    "           data=bicimad_barrios, \n",
    "           key_on=\"feature.id\", \n",
    "           fill_color=\"OrRd\", \n",
    "           legend_name='Bicimad Station docks per district',\n",
    "           nan_fill_color = \"LightGrey\"\n",
    "          ).add_to(m)\n",
    "\n",
    "# Display the map\n",
    "m"
   ]
  }
 ],
 "metadata": {
  "kernelspec": {
   "display_name": "Python 3 (ipykernel)",
   "language": "python",
   "name": "python3"
  },
  "language_info": {
   "codemirror_mode": {
    "name": "ipython",
    "version": 3
   },
   "file_extension": ".py",
   "mimetype": "text/x-python",
   "name": "python",
   "nbconvert_exporter": "python",
   "pygments_lexer": "ipython3",
   "version": "3.9.2"
  }
 },
 "nbformat": 4,
 "nbformat_minor": 5
}
